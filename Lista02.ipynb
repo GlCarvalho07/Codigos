{
  "nbformat": 4,
  "nbformat_minor": 0,
  "metadata": {
    "colab": {
      "provenance": []
    },
    "kernelspec": {
      "name": "python3",
      "display_name": "Python 3"
    },
    "language_info": {
      "name": "python"
    }
  },
  "cells": [
    {
      "cell_type": "markdown",
      "source": [
        "### 1. Faça um programa que peça números inteiros ao usuário e calcula a média dos valores digitados. O programa deverá parar quando o usuário digitar um número negativo (que não deverá ser incluído no cálculo)."
      ],
      "metadata": {
        "id": "5Cq_L9aSqQOg"
      }
    },
    {
      "cell_type": "code",
      "execution_count": null,
      "metadata": {
        "colab": {
          "base_uri": "https://localhost:8080/"
        },
        "id": "cCCmTdovqL6X",
        "outputId": "806dcb23-d304-40f3-fb2c-49ff43ef9d2e"
      },
      "outputs": [
        {
          "output_type": "stream",
          "name": "stdout",
          "text": [
            "Digite um número inteiro (negativo para parar): -1\n",
            "Nenhum número positivo foi digitado.\n"
          ]
        }
      ],
      "source": [
        "soma = 0\n",
        "contador = 0\n",
        "\n",
        "while contador < 3:\n",
        "    numero = int(input(\"Digite um número inteiro (negativo para parar): \"))\n",
        "    if numero < 0:\n",
        "        break\n",
        "    soma += numero\n",
        "    contador += 1\n",
        "\n",
        "if contador > 0:\n",
        "    media = soma / contador\n",
        "    print(f\"A média dos números digitados é: {media}\")\n",
        "else:\n",
        "    print(\"Nenhum número positivo foi digitado.\")"
      ]
    },
    {
      "cell_type": "markdown",
      "source": [
        "### 2. Faça um programa que peça números inteiros ao usuário e conta quantos números positivos e quantos números negativos foram digitados. O programa deverá parar quando o número zero for digitado, mostrando na tela os resultados."
      ],
      "metadata": {
        "id": "8SpPa3c0we8j"
      }
    },
    {
      "cell_type": "code",
      "source": [
        "positivos = 0\n",
        "negativos = 0\n",
        "\n",
        "while positivos < 100:\n",
        "    numero = int(input(\"Digite um número inteiro (digite 0 para parar): \"))\n",
        "    if numero == 0:\n",
        "        break\n",
        "    elif numero > 0:\n",
        "        positivos += 1\n",
        "    else:\n",
        "        negativos += 1\n",
        "\n",
        "print(f\"Você digitou {positivos} números positivos\")\n",
        "print(f\"Você digitou {negativos} números negativos\")"
      ],
      "metadata": {
        "colab": {
          "base_uri": "https://localhost:8080/"
        },
        "id": "wNGdogO9wifN",
        "outputId": "7bc54b6d-e1d6-47f4-ada3-3c914c50a8cb"
      },
      "execution_count": null,
      "outputs": [
        {
          "output_type": "stream",
          "name": "stdout",
          "text": [
            "Digite um número inteiro (digite 0 para parar): 10\n",
            "Digite um número inteiro (digite 0 para parar): 1\n",
            "Digite um número inteiro (digite 0 para parar): 1\n",
            "Digite um número inteiro (digite 0 para parar): 12\n",
            "Digite um número inteiro (digite 0 para parar): -1\n",
            "Digite um número inteiro (digite 0 para parar): -2\n",
            "Digite um número inteiro (digite 0 para parar): -3\n",
            "Digite um número inteiro (digite 0 para parar): 0\n",
            "Você digitou 4 números positivos\n",
            "Você digitou 3 números negativos\n"
          ]
        }
      ]
    },
    {
      "cell_type": "markdown",
      "source": [
        "### 3. Faça um programa que peça uma nota, entre zero e dez. Mostre uma mensagem caso o valor seja inválido e continue pedindo até que o usuário informe um valor válido."
      ],
      "metadata": {
        "id": "1Cj1xARn6kco"
      }
    },
    {
      "cell_type": "code",
      "source": [
        "nota = -1\n",
        "\n",
        "while nota < 0 or nota > 10:\n",
        "    nota = int(input('Digite a nota entre 0 e 10: '))\n",
        "    if nota < 0 or nota > 10:\n",
        "        print('Nota inválida, digite novamente.')\n",
        "\n",
        "print(f\"Sua nota foi {nota}\")"
      ],
      "metadata": {
        "colab": {
          "base_uri": "https://localhost:8080/"
        },
        "id": "0_NFSwBseBnk",
        "outputId": "2cfab142-a537-4e3c-8501-3ab6e089c703"
      },
      "execution_count": null,
      "outputs": [
        {
          "output_type": "stream",
          "name": "stdout",
          "text": [
            "Digite a nota entre 0 e 10: 10\n",
            "Sua nota foi 10\n"
          ]
        }
      ]
    },
    {
      "cell_type": "markdown",
      "source": [
        "### 4. Faça um programa que peça o valor total de um orçamento (valor igual ou maior do que R$100.00). Então, peça vários valores de serviço até chegar no valor total e mostre na tela o valor de cada serviço que será executado. Note que nem sempre será possível utilizar todo orçamento. Quando o valor do serviço estourar ou consumir todo orçamento, o programa deverá avisar que nenhum outro serviço poderá ser pedido."
      ],
      "metadata": {
        "id": "vy3V7TA7-skN"
      }
    },
    {
      "cell_type": "code",
      "source": [
        "print('Digite o valor total do orçamento (este valor deve ser maior ou igual a R$100.00): ')\n",
        "orcamento = float(input())\n",
        "\n",
        "acumulador = 0\n",
        "soma = 0\n",
        "\n",
        "if orcamento < 100:\n",
        "    print('Valor inválido. Digite um valor maior ou igual a R$100.00.')\n",
        "else:\n",
        "    print(\"Digite os valores dos serviços abaixo:\\n\")\n",
        "    while soma < orcamento:\n",
        "        print(f\"Serviço {acumulador + 1}: Digite um valor:\")\n",
        "        servico = float(input())\n",
        "\n",
        "        if soma + servico > orcamento:\n",
        "            print('Você atingiu o limite do orçamento. Nenhum outro serviço poderá ser adicionado.')\n",
        "            break\n",
        "\n",
        "        acumulador += 1\n",
        "        soma += servico\n",
        "        print(f'Serviço {acumulador} adicionado. Total acumulado: R${soma:.2f}\\n')\n",
        "\n",
        "        if soma == orcamento:\n",
        "            print('Você consumiu todo o orçamento. Nenhum outro serviço poderá ser pedido.')\n",
        "            break\n",
        "\n",
        "    print(f'\\nVocê utilizou {acumulador} serviços.')\n",
        "    print(\"\\nVocê utilizou os seguintes valores de serviços:\")\n",
        "\n",
        "    contador = 1\n",
        "    valor_total = 0\n",
        "    while contador <= acumulador:\n",
        "        print(f\"Serviço {contador}: Valor registrado no momento da execução.\")\n",
        "        contador += 1\n",
        "\n",
        "    print(f\"\\nOrçamento total utilizado: R${soma:.2f}\")\n",
        "0"
      ],
      "metadata": {
        "id": "QBXy6NgV-p3J",
        "colab": {
          "base_uri": "https://localhost:8080/"
        },
        "outputId": "e54748f6-8c26-424b-ab0b-a6f54c84ec38"
      },
      "execution_count": null,
      "outputs": [
        {
          "output_type": "stream",
          "name": "stdout",
          "text": [
            "Digite o valor total do orçamento (este valor deve ser maior ou igual a R$100.00): \n",
            "10000\n",
            "Digite os valores dos serviços abaixo:\n",
            "\n",
            "Serviço 1: Digite um valor:\n",
            "20\n",
            "Serviço 1 adicionado. Total acumulado: R$20.00\n",
            "\n",
            "Serviço 2: Digite um valor:\n",
            "4000\n",
            "Serviço 2 adicionado. Total acumulado: R$4020.00\n",
            "\n",
            "Serviço 3: Digite um valor:\n",
            "40\n",
            "Serviço 3 adicionado. Total acumulado: R$4060.00\n",
            "\n",
            "Serviço 4: Digite um valor:\n",
            "1000\n",
            "Serviço 4 adicionado. Total acumulado: R$5060.00\n",
            "\n",
            "Serviço 5: Digite um valor:\n",
            "10000\n",
            "Você atingiu o limite do orçamento. Nenhum outro serviço poderá ser adicionado.\n",
            "\n",
            "Você utilizou 4 serviços.\n",
            "\n",
            "Você utilizou os seguintes valores de serviços:\n",
            "Serviço 1: Valor registrado no momento da execução.\n",
            "Serviço 2: Valor registrado no momento da execução.\n",
            "Serviço 3: Valor registrado no momento da execução.\n",
            "Serviço 4: Valor registrado no momento da execução.\n",
            "\n",
            "Orçamento total utilizado: R$5060.00\n"
          ]
        }
      ]
    },
    {
      "cell_type": "markdown",
      "source": [
        "### 5. Faça um programa que leia e valide as seguintes informações:  \n",
        "   a. Nome: maior ou igual a 3 caracteres;  \n",
        "   b. Idade: entre 0 e 150;   \n",
        "   c. Salário: maior que zero;  \n",
        "  d. Sexo: 'f' ou 'm';  \n",
        "  e. Estado Civil: 's', 'c', 'v', 'd';   \n",
        "    \n",
        "  Caso alguma condição seja violada, peça para o usuário entrar novamente o valor.\n",
        "\n",
        "  Use a função len(string) para saber o tamanho de um texto (número de caracteres)."
      ],
      "metadata": {
        "id": "S0WmuNNiArWI"
      }
    },
    {
      "cell_type": "code",
      "source": [
        "while True:\n",
        "  nome = input('Digite seu nome: ')\n",
        "  if len(nome) >= 3:\n",
        "    print(f'Seu nome é {nome}')\n",
        "    break\n",
        "  print(\"Nome inválido, digite novamente.\")\n",
        "\n",
        "while True:\n",
        "  idade = int(input('Digite sua idade: '))\n",
        "  if 0 <= idade <= 150:\n",
        "    print(f'Sua idade é {idade}')\n",
        "    break\n",
        "  print(\"Idade inválida, digite novamente.\")\n",
        "\n",
        "while True:\n",
        "  salario = float(input('Digite seu salário: '))\n",
        "  if salario >= 0:\n",
        "    print(f'Seu salário é {salario}')\n",
        "    break\n",
        "  print(\"Salário inválido, digite novamente.\")\n",
        "\n",
        "\n",
        "while True:\n",
        "  sexo = str(input('Digite seu sexo(f ou m): '))\n",
        "  if sexo == 'f':\n",
        "    print('Sexo Feminino ')\n",
        "    break\n",
        "  elif sexo =='m':\n",
        "    print('Sexo Masculino ')\n",
        "    break\n",
        "  elif sexo != 'f' or 'm':\n",
        "    print('Letra inválida digite f ou m')\n",
        "\n",
        "\n",
        "while True:\n",
        "  estcivil = str(input('Digite (s) se você esta solteiro, (c) se está casado, (v) para viuvo e (d) para divorciado: '))\n",
        "  if estcivil == 's':\n",
        "    print('Você está solteiro: ')\n",
        "    break\n",
        "  elif estcivil == 'c':\n",
        "    print('Você é casado: ')\n",
        "    break\n",
        "  elif estcivil == 'v':\n",
        "    print('Você é viuvo: ')\n",
        "    break\n",
        "  elif estcivil == 'd':\n",
        "    print('Você está divorciado: ')\n",
        "    break\n",
        "  else:\n",
        "    print('Letra inválida')\n",
        "    break\n",
        "\n"
      ],
      "metadata": {
        "id": "x3lErz1sAzRs",
        "colab": {
          "base_uri": "https://localhost:8080/"
        },
        "outputId": "7eb23089-b5a4-4bb5-eb94-07fdcb19ffc6"
      },
      "execution_count": null,
      "outputs": [
        {
          "output_type": "stream",
          "name": "stdout",
          "text": [
            "Digite seu nome: gui\n",
            "Seu nome é gui\n",
            "Digite sua idade: 18\n",
            "Sua idade é 18\n",
            "Digite seu salário: 0\n",
            "Seu salário é 0.0\n",
            "Digite seu sexo(f ou m): m\n",
            "Sexo Masculino \n",
            "Digite (s) se você esta solteiro, (c) se está casado, (v) para viuvo e (d) para divorciado: s\n",
            "Você está solteiro: \n"
          ]
        }
      ]
    },
    {
      "cell_type": "markdown",
      "source": [
        "### 6. Faça um programa que peça dois números inteiros positivos, base e expoente, calcule e mostre o primeiro número elevado ao segundo número. Não utilize a função ou o operador de potência da linguagem."
      ],
      "metadata": {
        "id": "9CsnsKxwjnte"
      }
    },
    {
      "cell_type": "code",
      "source": [
        "base = int(input(\"Digite a base (inteiro positivo): \"))\n",
        "expoente = int(input(\"Digite o expoente (inteiro positivo): \"))\n",
        "\n",
        "if base <= 0 or expoente <= 0:\n",
        "    print(\"Por favor, digite números inteiros positivos.\")\n",
        "else:\n",
        "    resultado = 1\n",
        "    for i in range(expoente):\n",
        "        resultado = resultado * base\n",
        "    print(f\"{base} elevado a {expoente} é igual a {resultado}\")"
      ],
      "metadata": {
        "colab": {
          "base_uri": "https://localhost:8080/"
        },
        "id": "Ejnf6bW-eUVj",
        "outputId": "78e70a40-3d65-4e3a-8181-92aef622c270"
      },
      "execution_count": null,
      "outputs": [
        {
          "output_type": "stream",
          "name": "stdout",
          "text": [
            "Digite a base (inteiro positivo): 9\n",
            "Digite o expoente (inteiro positivo): 3\n",
            "9 elevado a 3 é igual a 729\n"
          ]
        }
      ]
    },
    {
      "cell_type": "markdown",
      "source": [
        "### 7. Faça um programa que peça um número inteiro e mostre a tabuada desse número na tela. Faça utilizando o for. (Essa tarefa poderia ser feita utilizando o while? Por quê?)"
      ],
      "metadata": {
        "id": "2mrY2a_FkHsU"
      }
    },
    {
      "cell_type": "code",
      "source": [
        "tab = int(input(f'Qual tabuada você quer visualizar? '))\n",
        "for i in range (11):\n",
        "  print(f'{tab} x {i:2d} = {tab * i:3d} ')\n",
        "\n",
        "  #Essa atividade não poderia ter sido feita em while porque sabe o valor que o usuário irá pedir que é n"
      ],
      "metadata": {
        "colab": {
          "base_uri": "https://localhost:8080/"
        },
        "id": "2nRJUzeQkg_z",
        "outputId": "18f1f568-6959-4f12-fb6a-7168cab79fd3"
      },
      "execution_count": null,
      "outputs": [
        {
          "output_type": "stream",
          "name": "stdout",
          "text": [
            "Qual tabuada você quer visualizar? 9000\n",
            "9000 x  0 =   0 \n",
            "9000 x  1 = 9000 \n",
            "9000 x  2 = 18000 \n",
            "9000 x  3 = 27000 \n",
            "9000 x  4 = 36000 \n",
            "9000 x  5 = 45000 \n",
            "9000 x  6 = 54000 \n",
            "9000 x  7 = 63000 \n",
            "9000 x  8 = 72000 \n",
            "9000 x  9 = 81000 \n",
            "9000 x 10 = 90000 \n"
          ]
        }
      ]
    },
    {
      "cell_type": "markdown",
      "source": [
        "### 8. Faça um programa que peça um número inteiro positivo n e mostre os n primeiros números da sequência de Fibonacci.\n"
      ],
      "metadata": {
        "id": "-MJqAgjwlnSK"
      }
    },
    {
      "cell_type": "code",
      "source": [
        "n1 = 1\n",
        "n2 = 1\n",
        "n = int(input('Digite um inteiro: '))\n",
        "\n",
        "if n <= 0:\n",
        "    print(\"Quantidade inválida (deveria ser > 0).\")\n",
        "else:\n",
        "    for i in range(n):\n",
        "        if i == 0: # primeiro item\n",
        "            if n == 1: # único item da sequência\n",
        "                print(1, end='.')\n",
        "            else:\n",
        "                print(1, end='')\n",
        "        elif i == 1:\n",
        "            if n == 2: # último item da sequência com 2 números\n",
        "                print(f', 1', end='.')\n",
        "            else:\n",
        "                print(f', 1', end='')\n",
        "        elif i > 1 and i < n - 1:\n",
        "            n3 = n1 + n2\n",
        "            print(f', {n3}', end='')\n",
        "            n1, n2 = n2, n3\n",
        "        else:\n",
        "            print(f', {n1 + n2}', end='.')"
      ],
      "metadata": {
        "id": "tmI0nXiFlrym"
      },
      "execution_count": null,
      "outputs": []
    },
    {
      "cell_type": "markdown",
      "source": [
        "### 9. Faça um programa que peça um número inteiro não negativo n e mostre o valor de n fatorial (n!)."
      ],
      "metadata": {
        "id": "Q8-vh6U2ltap"
      }
    },
    {
      "cell_type": "code",
      "source": [
        "n = int(input(\"Digite um número inteiro não negativo: \"))\n",
        "\n",
        "if n < 0:\n",
        "    print(\"Por favor, digite um número inteiro não negativo.\")\n",
        "elif n == 0:\n",
        "    print(\"O fatorial de 0 é 1.\")\n",
        "else:\n",
        "    fatorial = 1\n",
        "    for i in range(1, n + 1):\n",
        "        fatorial = fatorial * i\n",
        "    print(f\"O fatorial de {n} é {fatorial}\")"
      ],
      "metadata": {
        "colab": {
          "base_uri": "https://localhost:8080/"
        },
        "id": "sM6iRg1Zl2JY",
        "outputId": "606d9f2c-82b5-4e66-a8af-b97d4d2ff128"
      },
      "execution_count": null,
      "outputs": [
        {
          "output_type": "stream",
          "name": "stdout",
          "text": [
            "Digite um número inteiro não negativo: 6\n",
            "O fatorial de 6 é 720\n"
          ]
        }
      ]
    },
    {
      "cell_type": "markdown",
      "source": [
        "### 10. Faça um programa que peça um número inteiro e determine se esse número é um número primo. (Um número é primo se ele for divisível somente por ele mesmo e por 1)."
      ],
      "metadata": {
        "id": "HdNTzsgInDGY"
      }
    },
    {
      "cell_type": "code",
      "source": [
        "numero = int(input(\"Digite um número inteiro: \"))\n",
        "\n",
        "if numero <= 1:\n",
        "    print(f\"{numero} não é um número primo.\")\n",
        "else:\n",
        "    primo = True\n",
        "    for i in range(2, numero):\n",
        "        if numero % i == 0:\n",
        "            primo = False\n",
        "            break\n",
        "    if primo:\n",
        "        print(f\"{numero} é um número primo.\")\n",
        "    else:\n",
        "        print(f\"{numero} não é um número primo.\")"
      ],
      "metadata": {
        "colab": {
          "base_uri": "https://localhost:8080/"
        },
        "id": "Smq-PXawnK3X",
        "outputId": "f329bf3b-6af4-431a-db03-22be6fabd321"
      },
      "execution_count": null,
      "outputs": [
        {
          "output_type": "stream",
          "name": "stdout",
          "text": [
            "Digite um número inteiro: 102\n",
            "102 não é um número primo.\n"
          ]
        }
      ]
    },
    {
      "cell_type": "markdown",
      "source": [
        "### 11. Faça um programa que peça dois números inteiros positivos e mostra o máximo divisor comum (MDC) e o mínimo múltiplo comum (MMC) desses números."
      ],
      "metadata": {
        "id": "kmLs41Brnprp"
      }
    },
    {
      "cell_type": "code",
      "source": [
        "m, n = 6, 4\n",
        "divisor = 2\n",
        "mmc = 1\n",
        "continuar = True\n",
        "\n",
        "print(m, n)\n",
        "\n",
        "while m != 1 or n != 1:\n",
        "    while continuar == True:\n",
        "        if m % divisor == 0:\n",
        "            m = m // divisor\n",
        "            teste_m = True\n",
        "\n",
        "        if n % divisor == 0:\n",
        "            n = n // divisor\n",
        "            teste_n = True\n",
        "\n",
        "        continuar = teste_m or teste_n\n",
        "        teste_m = False\n",
        "        teste_n = False\n",
        "        if continuar:\n",
        "            mmc = mmc * divisor\n",
        "            print(m, n)\n",
        "    divisor = divisor + 1\n",
        "    continuar = True\n",
        "\n",
        "print(f'mmc = {mmc}')\n",
        "\n"
      ],
      "metadata": {
        "id": "WK5U7LIVnsFb"
      },
      "execution_count": null,
      "outputs": []
    },
    {
      "cell_type": "markdown",
      "source": [
        "### 12. Faça um programa que peça a razão e primeiro termo de uma PA (progressão aritmética). Peça um número inteiro positivo n e mostra os n primeiros termos dessa PA."
      ],
      "metadata": {
        "id": "udSMXqyhnuJi"
      }
    },
    {
      "cell_type": "code",
      "source": [
        "p_termo = float(input('Digite o primeiro termo da pa: '))\n",
        "razao = float(input('Digite a razão da pa: '))\n",
        "n = int(input('Digite quantos termos deseja mostrar: '))\n",
        "\n",
        "if n <= 0:\n",
        "    print('Digite um número inteiro positivo para a quantidade de termos.')\n",
        "else:\n",
        "    for i in range(n):\n",
        "        termo_atual = p_termo + i * razao\n",
        "        print(termo_atual, end=\" \")\n",
        "\n"
      ],
      "metadata": {
        "colab": {
          "base_uri": "https://localhost:8080/"
        },
        "id": "GhgoOVe-n2sr",
        "outputId": "24b9294d-0260-4266-8b44-ff0b96ae5da7"
      },
      "execution_count": null,
      "outputs": [
        {
          "output_type": "stream",
          "name": "stdout",
          "text": [
            "Digite o primeiro termo da progressão aritimética: 4\n",
            "Digite a razão da progressão aritmética: 10\n",
            "Digite quantos termos deseja mostrar: 9\n",
            "4.0 14.0 24.0 34.0 44.0 54.0 64.0 74.0 84.0 "
          ]
        }
      ]
    },
    {
      "cell_type": "markdown",
      "source": [
        "### 13. Faça um programa que peça a razão e terceiro termo de uma PA (progressão aritmética). Peça um número inteiro positivo n (maior do que 3) e mostra os n primeiros termos dessa PA."
      ],
      "metadata": {
        "id": "U_XknhhcoY7j"
      }
    },
    {
      "cell_type": "code",
      "source": [
        "t_termo = float(input('Digite o terceiro termo da pa: '))\n",
        "razao = float(input('Digite a razão da pa: '))\n",
        "n = int(input('Digite quantos termos deseja mostrar (maior que 3): '))\n",
        "\n",
        "if n <= 3:\n",
        "    print('Digite um número inteiro positivo maior que 3 para a quantidade de termos.')\n",
        "else:\n",
        "    p_termo = t_termo - 2 * razao\n",
        "    for i in range(n):\n",
        "        termo_atual = p_termo + i * razao\n",
        "        print(termo_atual, end=\" \")"
      ],
      "metadata": {
        "colab": {
          "base_uri": "https://localhost:8080/"
        },
        "id": "Ky_3y5xXokv_",
        "outputId": "e848d8ab-2d79-4a45-bf25-2e08e3360799"
      },
      "execution_count": null,
      "outputs": [
        {
          "output_type": "stream",
          "name": "stdout",
          "text": [
            "Digite o terceiro termo da progressão aritimética: 5\n",
            "Digite a razão da progressão aritimética: 2\n",
            "Digite quantos termos deseja mostrar (maior que 3): 6\n",
            "1.0 3.0 5.0 7.0 9.0 11.0 "
          ]
        }
      ]
    },
    {
      "cell_type": "markdown",
      "source": [
        "### 14. Faça um programa que peça a razão e quarto termo de uma PA (progressão aritmética). Peça um número inteiro positivo n e mostra a soma dos n primeiros termos dessa PA."
      ],
      "metadata": {
        "id": "zAnaXQPmq_wQ"
      }
    },
    {
      "cell_type": "code",
      "source": [
        "q_termo = float(input('Digite o quarto termo da pa: '))\n",
        "razao = float(input('Digite a razão da pa: '))\n",
        "n = int(input('Digite quantos termos deseja somar: '))\n",
        "\n",
        "if n <= 0:\n",
        "    print('Digite um número inteiro positivo para a quantidade de termos.')\n",
        "else:\n",
        "    p_termo = q_termo - 3 * razao\n",
        "    ultimo_termo = p_termo + (n - 1) * razao\n",
        "    soma = (n * (p_termo + ultimo_termo)) / 2\n",
        "    print(f'A soma dos {n} primeiros termos da pa é: {soma}')"
      ],
      "metadata": {
        "colab": {
          "base_uri": "https://localhost:8080/"
        },
        "id": "3TA3yFW_rIfX",
        "outputId": "6cdce74b-b112-460f-86cd-f16036a3701b"
      },
      "execution_count": null,
      "outputs": [
        {
          "output_type": "stream",
          "name": "stdout",
          "text": [
            "Digite o quarto termo da progressão aritimética: 7\n",
            "Digite a razão da progressão aritimética: 2\n",
            "Digite quantos termos deseja somar: 9\n",
            "A soma dos 9 primeiros termos da progressão aritimética é: 81.0\n"
          ]
        }
      ]
    },
    {
      "cell_type": "markdown",
      "source": [
        "### 15. Faça um programa que peça a razão e primeiro termo de uma PG (progressão geométrica). Peça um número inteiro positivo n e mostra os n primeiros termos dessa PG."
      ],
      "metadata": {
        "id": "o373DKqzrzUL"
      }
    },
    {
      "cell_type": "code",
      "source": [
        "p_termo = float(input('Digite o primeiro termo da pg: '))\n",
        "razao = float(input(\"Digite a razão da pg: \"))\n",
        "n = int(input(\"Digite quantos termos deseja mostrar: \"))\n",
        "\n",
        "if n <= 0:\n",
        "    print(\"Digite um número inteiro positivo para a quantidade de termos.\")\n",
        "else:\n",
        "    termo_atual = p_termo\n",
        "    for _ in range(n):\n",
        "        print(termo_atual, end=\" \")\n",
        "        termo_atual = termo_atual * razao"
      ],
      "metadata": {
        "id": "Fc3hx-5Dr3jV"
      },
      "execution_count": null,
      "outputs": []
    },
    {
      "cell_type": "markdown",
      "source": [
        "### 16. Faça um programa que peça a razão e terceiro termo de uma PG (progressão geométrica). Peça um número inteiro positivo n (maior do que 3) e mostra os n primeiros termos e a soma dos n primeiros termos dessa PG."
      ],
      "metadata": {
        "id": "ZMpbblcltLvh"
      }
    },
    {
      "cell_type": "code",
      "source": [
        "t_termo = float(input(\"Digite o terceiro termo da pg: \"))\n",
        "razao = float(input(\"Digite a razão da pg: \"))\n",
        "n = int(input(\"Digite quantos termos deseja mostrar e somar (maior que 3): \"))\n",
        "\n",
        "if n <= 3:\n",
        "    print(\"Por favor, digite um número inteiro positivo maior que 3.\")\n",
        "else:\n",
        "    p_termo = t_termo / (razao ** 2)\n",
        "    soma = 0\n",
        "    termo_atual = p_termo\n",
        "    print(\"Os\", n, \"primeiros termos da PG são:\", end=\" \")\n",
        "    for _ in range(n):\n",
        "        print(termo_atual, end=\" \")\n",
        "        soma += termo_atual\n",
        "        termo_atual *= razao\n",
        "\n",
        "    if razao == 1:\n",
        "        soma_total = p_termo * n\n",
        "    else:\n",
        "        soma_total = p_termo * (razao ** n - 1) / (razao - 1)\n",
        "    print(\"A soma dos\", n, \"primeiros termos da pg é:\", soma_total)"
      ],
      "metadata": {
        "colab": {
          "base_uri": "https://localhost:8080/"
        },
        "id": "rpHBD9GPtLYX",
        "outputId": "1b95017c-51ac-4410-bc75-3f17f7e8442f"
      },
      "execution_count": null,
      "outputs": [
        {
          "output_type": "stream",
          "name": "stdout",
          "text": [
            "Digite o terceiro termo da pg: 4\n",
            "Digite a razão da pg: 76\n",
            "Digite quantos termos deseja mostrar e somar (maior que 3): 7\n",
            "Os 7 primeiros termos da PG são: 0.0006925207756232687 0.05263157894736842 4.0 304.0 23104.0 1755904.0 133448704.0 A soma dos 7 primeiros termos da pg é: 135228020.0533241\n"
          ]
        }
      ]
    },
    {
      "cell_type": "markdown",
      "source": [
        "### 17. Faça um programa que peça o valor presente (capital inicial), a taxa de juros mensal (i) e o período em meses(n). Então, o programa deve calcular e mostrar a evolução do valor futuro (montante) a cada um dos n meses."
      ],
      "metadata": {
        "id": "ZtDq9apeukYa"
      }
    },
    {
      "cell_type": "code",
      "source": [
        "C = 100\n",
        "i = 0.1\n",
        "n = 12\n",
        "Ms = C\n",
        "Mc = C\n",
        "\n",
        "print(f'Ms: R${Ms:.2f}   Mc: R${Mc:.2f}')\n",
        "\n",
        "for t in range(1, n + 1):\n",
        "    Ms = C * (1 + i * t)\n",
        "    Mc = C * (1 + i)**t\n",
        "\n",
        "    print(f'Ms: R${Ms:.2f}   Mc: R${Mc:.2f}')\n",
        "\n"
      ],
      "metadata": {
        "id": "XamjwOfmuluK"
      },
      "execution_count": null,
      "outputs": []
    },
    {
      "cell_type": "markdown",
      "source": [
        "### 18. Faça um programa que pede o valor que será depositado todos o meses, o valor da taxa de juros mensal e o total de meses (n) . O programa deverá mostrar na tela o valor do montante e o valor dos juros em cada um dos n meses."
      ],
      "metadata": {
        "id": "iqK7jLKiuoIM"
      }
    },
    {
      "cell_type": "code",
      "source": [
        "C = 100\n",
        "i = 0.01\n",
        "n = 12*10\n",
        "M = C\n",
        "Mc = C\n",
        "Ms = C\n",
        "print(f'Ms: R${Ms:.2f}   Mc: R${Mc:.2f}')\n",
        "\n",
        "for t in range(1, n + 1):\n",
        "    Mc = M * (1 + i) + C\n",
        "    Ms = t * C * (1 + i)\n",
        "    print(f'Ms: R${Ms:.2f}   Mc: R${Mc:.2f}')\n",
        "    M = Mc\n"
      ],
      "metadata": {
        "id": "Ja0JlxYCutIF"
      },
      "execution_count": null,
      "outputs": []
    },
    {
      "cell_type": "markdown",
      "source": [
        "### 19. Faça um programa que pede o número n de provas e as n notas e calcula a média e o desvio padrão dessas notas."
      ],
      "metadata": {
        "id": "a-dl9bbvuvlO"
      }
    },
    {
      "cell_type": "code",
      "source": [
        "n = int(input('Digite o número de provas: '))\n",
        "if n <= 0:\n",
        "    print('Digite um número positivo de provas.')\n",
        "else:\n",
        "    soma_notas = 0\n",
        "    notas_quadrado = 0\n",
        "    for i in range(n):\n",
        "        nota = float(input(f'Digite a nota da prova {i + 1}: '))\n",
        "        soma_notas += nota\n",
        "        notas_quadrado += nota ** 2\n",
        "\n",
        "    media = soma_notas / n\n",
        "\n",
        "    variancia = (notas_quadrado / n) - (media ** 2)\n",
        "    desvio_padrao = variancia ** 0.5\n",
        "\n",
        "    print(f'A média das notas é: {media}')\n",
        "    print(f'O desvio padrão das notas é: {desvio_padrao}')"
      ],
      "metadata": {
        "colab": {
          "base_uri": "https://localhost:8080/"
        },
        "id": "YyfkKa8suyHv",
        "outputId": "5ac4bfb9-1598-4653-fb33-51fe58f0c0d2"
      },
      "execution_count": null,
      "outputs": [
        {
          "output_type": "stream",
          "name": "stdout",
          "text": [
            "Digite o número de provas: 2\n",
            "Digite a nota da prova 1: 5\n",
            "Digite a nota da prova 2: 10\n",
            "A média das notas é: 7.5\n",
            "O desvio padrão das notas é: 2.5\n"
          ]
        }
      ]
    },
    {
      "cell_type": "markdown",
      "source": [
        "### 20. Faça um programa que peça um número inteiro positivo e mostra esse número no sistema binário."
      ],
      "metadata": {
        "id": "4Dh9NgWGvqko"
      }
    },
    {
      "cell_type": "code",
      "source": [
        "numero = int(input(\"Digite um número inteiro positivo: \"))\n",
        "\n",
        "if numero < 0:\n",
        "    print(\"Por favor, digite um número inteiro positivo.\")\n",
        "elif numero == 0:\n",
        "    print(\"O número binário é: 0\")\n",
        "else:\n",
        "    binario = \"\"\n",
        "    while numero > 0:\n",
        "        resto = numero % 2\n",
        "        binario = str(resto) + binario\n",
        "        numero //= 2\n",
        "    print(f\"O número binário é: {binario}\")\n"
      ],
      "metadata": {
        "colab": {
          "base_uri": "https://localhost:8080/"
        },
        "id": "PQSAkSk8vtSw",
        "outputId": "ce37ab37-d616-424c-cad6-03a498454263"
      },
      "execution_count": null,
      "outputs": [
        {
          "output_type": "stream",
          "name": "stdout",
          "text": [
            "Digite um número inteiro positivo: 10\n",
            "O número binário é: 1010\n"
          ]
        }
      ]
    }
  ]
}