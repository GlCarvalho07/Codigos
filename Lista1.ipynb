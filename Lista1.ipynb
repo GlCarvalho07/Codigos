{
  "nbformat": 4,
  "nbformat_minor": 0,
  "metadata": {
    "colab": {
      "provenance": []
    },
    "kernelspec": {
      "name": "python3",
      "display_name": "Python 3"
    },
    "language_info": {
      "name": "python"
    }
  },
  "cells": [
    {
      "cell_type": "markdown",
      "source": [
        "### 1 Faça um pograma que mostre o seu primeiro nome na tela"
      ],
      "metadata": {
        "id": "tnWZEMrtu0tF"
      }
    },
    {
      "cell_type": "code",
      "execution_count": null,
      "metadata": {
        "id": "QeQNE0_hulJt"
      },
      "outputs": [],
      "source": [
        "print('Guilherme ')\n",
        "print(\"Guilherme \")"
      ]
    },
    {
      "cell_type": "markdown",
      "source": [
        "##2. Faça um programa que pede o primeiro nome do usuário e um sobrenome e mostra os dois nomes digitados na tela."
      ],
      "metadata": {
        "id": "67kY2kiWvc34"
      }
    },
    {
      "cell_type": "code",
      "source": [
        "nome = input('Digite seu nome: ')\n",
        "sobrenome = input('Digite seu sobrenome: ')\n",
        "print(f'{nome} {sobrenome}' )"
      ],
      "metadata": {
        "colab": {
          "base_uri": "https://localhost:8080/"
        },
        "id": "LzqLj-TCvfwC",
        "outputId": "dd1e38dc-7e78-4a6c-be0c-4725f9e36868"
      },
      "execution_count": null,
      "outputs": [
        {
          "output_type": "stream",
          "name": "stdout",
          "text": [
            "Digite seu nome: Guilherme \n",
            "Digite seu sobrenome: Carvalho\n",
            "Guilherme  Carvalho\n"
          ]
        }
      ]
    },
    {
      "cell_type": "markdown",
      "source": [
        "### 3. Faça um programa que mostra um X bem grande na tela, utilizando o print (um ou mais vezes). Obs.: esse X deverá ter, pelo menos altura de 7 caracteres. Desafio: fazer essa tarefa em um único print."
      ],
      "metadata": {
        "id": "fJ1hePvvw-Wp"
      }
    },
    {
      "cell_type": "code",
      "source": [
        "print('x     x\\n x   x\\n  x x\\n   x\\n  x x\\n x   x\\nx     x')"
      ],
      "metadata": {
        "colab": {
          "base_uri": "https://localhost:8080/"
        },
        "id": "3AWPLII8xG6o",
        "outputId": "af1f26ca-a3a6-4203-e680-334615680b8e"
      },
      "execution_count": null,
      "outputs": [
        {
          "output_type": "stream",
          "name": "stdout",
          "text": [
            "x     x\n",
            " x   x\n",
            "  x x\n",
            "   x\n",
            "  x x\n",
            " x   x\n",
            "x     x\n"
          ]
        }
      ]
    },
    {
      "cell_type": "markdown",
      "source": [
        "### 4. Faça um programa que pede o dia e mês de aniversário e diz quantos dias faltam para o aniversário, quantos dias se passaram do aniversário ou se hoje é o aniversário do usuário. (obs.: não utilize bibliotecas)"
      ],
      "metadata": {
        "id": "xoAS18swxRpy"
      }
    },
    {
      "cell_type": "code",
      "source": [
        "dia = int(input('Digite o dia de seu aniversário: '))\n",
        "mes = int(input('Digite o mês de seu aniversário: '))\n",
        "m = 'm'\n",
        "s = 's'\n",
        "\n",
        "\n",
        "if mes == 1:\n",
        "    diff_dias = 60 + 32 - dia\n",
        "    print(f\"Passaram {diff_dias} dias de seu aniversário!\")\n",
        "\n",
        "elif mes == 2:\n",
        "    diff_dias = 32 + 29 - dia\n",
        "    print(f\"Passaram {diff_dias} dias de seu aniversário!\")\n",
        "\n",
        "elif mes == 3:\n",
        "    diff_dias = 33 - dia\n",
        "    print(f\"Passaram {diff_dias} dias de seu aniversário!\")\n",
        "\n",
        "elif mes == 4:\n",
        "    diff_dias = dia - 2\n",
        "    if diff_dias == 1:\n",
        "        m = ''\n",
        "\n",
        "        s = ''\n",
        "    if diff_dias == 0:\n",
        "        print(\"Feliz aniversário!\")\n",
        "    elif diff_dias > 0:\n",
        "        print(f\"Falta{m} {diff_dias} dia{s} para seu aniversário!\")\n",
        "    else:\n",
        "        print(f\"Passou {-1 * diff_dias} dia de seu aniversário!\")\n",
        "\n",
        "elif mes == 5:\n",
        "    dias_faltantes = 28 + dia\n",
        "    print(f'Faltam {dias_faltantes} dias para seu aniversário!')\n",
        "\n",
        "elif mes == 6:\n",
        "    dias_faltantes = 59 + dia\n",
        "    print(f'Faltam {dias_faltantes} dias para seu aniversário!')\n",
        "\n",
        "elif mes == 7:\n",
        "    dias_faltantes = 89 + dia\n",
        "    print(f'Faltam {dias_faltantes} dias para seu aniversário!')\n",
        "elif mes == 8:\n",
        "    dias_faltantes = 120 + dia\n",
        "    print(f'Faltam {dias_faltantes} dias para seu aniversário!')\n",
        "\n",
        "elif mes == 9:\n",
        "    dias_faltantes = 151 + dia\n",
        "    print(f'Faltam {dias_faltantes} dias para seu aniversário!')\n",
        "\n",
        "elif mes == 10:\n",
        "    dias_faltantes = 181 + dia\n",
        "    print(f'Faltam {dias_faltantes} dias para seu aniversário!')\n",
        "elif mes == 11:\n",
        "    dias_faltantes = 212 + dia\n",
        "    print(f'Faltam {dias_faltantes} dias para seu aniversário!')\n",
        "\n",
        "elif mes == 12:\n",
        "    dias_faltantes = 242 + dia\n",
        "    print(f'Faltam {dias_faltantes} dias para seu aniversário!')\n",
        "\n",
        "else:\n",
        "    print(\"Mês inválido\")"
      ],
      "metadata": {
        "colab": {
          "base_uri": "https://localhost:8080/"
        },
        "id": "Cb3JjjEMxW4y",
        "outputId": "b893bd86-a4f2-4361-d8c5-c3f5bf751e61"
      },
      "execution_count": null,
      "outputs": [
        {
          "output_type": "stream",
          "name": "stdout",
          "text": [
            "Digite o dia de seu aniversário: 17\n",
            "Digite o mês de seu aniversário: 2\n",
            "Passaram 44 dias de seu aniversário!\n"
          ]
        }
      ]
    },
    {
      "cell_type": "markdown",
      "source": [
        "### 5. Sua tarefa é criar um programa em Python que pede o preço original de um produto e dá 20% de desconto.\n",
        "\n",
        "Você deve mostrar uma tabela contendo:    \n",
        "a. Preço original do produto.  \n",
        "b. Valor do desconto em R\\$ (tipo 'Você ganho R$ xx,xx de desconto').  \n",
        "c. Valor do produto com o desconto."
      ],
      "metadata": {
        "id": "Xftmlj8pxhh9"
      }
    },
    {
      "cell_type": "code",
      "source": [
        "print('Digite o preço do produto: ')\n",
        "preco = float(input())\n",
        "desc = 20\n",
        "val_desc = preco * (desc / 100)\n",
        "preco_desc = preco - val_desc\n",
        "print(f'Preço orginal do produto foi: {preco}')\n",
        "print(f'Você ganhou ${val_desc} de desconto')\n",
        "print(f'O valor com desconto é de: {preco_desc} ')"
      ],
      "metadata": {
        "colab": {
          "base_uri": "https://localhost:8080/"
        },
        "id": "yF5F7qPcxyGK",
        "outputId": "e0f80cd4-48ec-4eb0-b461-c7451a0f7b08"
      },
      "execution_count": null,
      "outputs": [
        {
          "output_type": "stream",
          "name": "stdout",
          "text": [
            "Digite o preço do produto: \n",
            "1000\n",
            "Preço orginal do produto foi: 1000.0\n",
            "Você ganhou $200.0 de desconto\n",
            "O valor com desconto é de: 800.0 \n"
          ]
        }
      ]
    },
    {
      "cell_type": "markdown",
      "source": [
        "### 6. Generalize o problema anterior, perguntando a porcentagem de desconto e mostrando os mesmos dados acima."
      ],
      "metadata": {
        "id": "JqfebpxU0kt4"
      }
    },
    {
      "cell_type": "code",
      "source": [
        "print('Digite o preço do produto: ')\n",
        "preco = float(input())\n",
        "print('Digite o valo do desconto:')\n",
        "desc = float(input())\n",
        "desc_recebido = preco * (desc / 100)\n",
        "preco_desc = preco - desc_recebido\n",
        "print(f'Preço orginal do produto foi: {preco}')\n",
        "print(f'Você ganhou ${val_desc} de desconto')\n",
        "print(f'O valor com desconto é de: {preco_desc} ')"
      ],
      "metadata": {
        "colab": {
          "base_uri": "https://localhost:8080/"
        },
        "id": "EHkZ7g7f0L2w",
        "outputId": "648d6207-2f60-4842-a26e-0f56c79b8e2f"
      },
      "execution_count": null,
      "outputs": [
        {
          "output_type": "stream",
          "name": "stdout",
          "text": [
            "Digite o preço do produto: \n",
            "2000\n",
            "Digite o valo do desconto:\n",
            "10\n",
            "Preço orginal do produto foi: 2000.0\n",
            "Você ganhou $200.0 de desconto\n",
            "O valor com desconto é de: 1800.0 \n"
          ]
        }
      ]
    },
    {
      "cell_type": "markdown",
      "source": [
        "### 7. Faça um programa que peça 3 valores e calcula sua média aritmética simples, mostrando esse resultado na tela."
      ],
      "metadata": {
        "id": "s1ORhkwV3GBk"
      }
    },
    {
      "cell_type": "code",
      "source": [
        "valor1 = float(input('Digite o valor 1: '))\n",
        "valor2 = float(input('Digite o valor 2: '))\n",
        "valor3 = float(input('Digite o valor 3: '))\n",
        "media = (valor1 + valor2 + valor3) / 3\n",
        "print(f'A média arimética dos valores é: {media}')"
      ],
      "metadata": {
        "colab": {
          "base_uri": "https://localhost:8080/"
        },
        "id": "e5jPB4nz3KSk",
        "outputId": "cf71a13e-cfd5-4a00-a34b-e66f7e6bc378"
      },
      "execution_count": null,
      "outputs": [
        {
          "output_type": "stream",
          "name": "stdout",
          "text": [
            "Digite o valor 1: 10\n",
            "Digite o valor 2: 15\n",
            "Digite o valor 3: 20\n",
            "A média arimética dos valores é: 15.0\n"
          ]
        }
      ]
    },
    {
      "cell_type": "markdown",
      "source": [
        "### 8. Faça um programa que peça 4 valores positivos e calcula:  \n",
        "a. A média aritmética simples.  \n",
        "b. A média geométrica.  \n",
        "c. A média harmônica\n"
      ],
      "metadata": {
        "id": "elLBCq4e5nfJ"
      }
    },
    {
      "cell_type": "code",
      "source": [
        "print('Digite o primeiro número: ')\n",
        "num1 = int(input())\n",
        "\n",
        "print('Digite o segundo número: ')\n",
        "num2 = int(input())\n",
        "\n",
        "print('Digite o terceiro número: ')\n",
        "num3 = int(input())\n",
        "\n",
        "print('Digite o quarto número: ')\n",
        "num4 = int(input())\n",
        "\n",
        "medArit = (num1 + num2 + num3 + num4)/4\n",
        "\n",
        "medGeo = (num1 * num2 * num3 * num4) ** 0.25\n",
        "\n",
        "medHar = 4 / ((1/num1) + (1/num2) + (1/num3) + (1/num4))\n",
        "\n",
        "print(f'A média aritmética é: {medArit}')\n",
        "\n",
        "print(f'A média geométrica é: {medGeo}')\n",
        "\n",
        "print(f'A média harmônica é: {medHar}')"
      ],
      "metadata": {
        "id": "tiVUxaRZ5q-o"
      },
      "execution_count": null,
      "outputs": []
    },
    {
      "cell_type": "markdown",
      "source": [
        "### 9. Faça um programa que peça 4 números reais e calcula:  \n",
        "a. A média aritmética simples.  \n",
        "b. A variância desses dados.  \n",
        "c. O desvio padrão desses dados.\n"
      ],
      "metadata": {
        "id": "QRSOk8Jw5rKV"
      }
    },
    {
      "cell_type": "code",
      "source": [
        "numeros = [0] * 4\n",
        "\n",
        "for i in range(4):\n",
        "    numeros[i] = float(input(f\"Digite o {i+1}º número: \"))\n",
        "\n",
        "soma = 0\n",
        "for i in range(4):\n",
        "    soma = soma + numeros[i]\n",
        "media_aritmetica = soma / 4\n",
        "\n",
        "soma_dos_quadrados = 0\n",
        "for i in range(4):\n",
        "    diferenca = numeros[i] - media_aritmetica\n",
        "    quadrado = diferenca * diferenca\n",
        "    soma_dos_quadrados = soma_dos_quadrados + quadrado\n",
        "\n",
        "variancia = soma_dos_quadrados / 4\n",
        "\n",
        "desvio_padrao = variancia ** 0.5\n",
        "\n",
        "print(f\"\\nMédia aritmética: {media_aritmetica:.2f}\")\n",
        "print(f\"Variância: {variancia:.2f}\")\n",
        "print(f\"Desvio padrão: {desvio_padrao:.2f}\")"
      ],
      "metadata": {
        "id": "a2MgOK4v55nz"
      },
      "execution_count": null,
      "outputs": []
    },
    {
      "cell_type": "markdown",
      "source": [
        "### 10. Faça um programa que, dados 3 números inteiros, mostre na tela o maior deles."
      ],
      "metadata": {
        "id": "ZuzsbQCG544T"
      }
    },
    {
      "cell_type": "code",
      "source": [
        "num1 = int(input('Digite o primeiro número: '))\n",
        "num2 = int(input('Digite o segundo número: '))\n",
        "num3 = int(input('Digite o terceiro número: '))\n",
        "if num1 > num2 and num1 > num3:\n",
        "  print(f'O {num1} é o maior número')\n",
        "if num2 > num3 and num2 > num1:\n",
        "  print(f'O {num2} é o maior número')\n",
        "if num3 > num1 and num3 > num1:\n",
        "  print(f'O {num3} é o maior número')\n",
        "else:\n",
        "    print('Dois números digitados iguais: ')"
      ],
      "metadata": {
        "colab": {
          "base_uri": "https://localhost:8080/"
        },
        "id": "CTVtteZL5_LH",
        "outputId": "7f177b16-e455-494e-96dd-b6d74fe619fa"
      },
      "execution_count": null,
      "outputs": [
        {
          "output_type": "stream",
          "name": "stdout",
          "text": [
            "Digite o primeiro número: 1\n",
            "Digite o segundo número: 1\n",
            "Digite o terceiro número: 1\n",
            "Dois números digitados iguais: \n"
          ]
        }
      ]
    },
    {
      "cell_type": "markdown",
      "source": [
        "### 11. Faça um programa que, dados 3 números inteiros, mostre na tela esses números em ordem crescente."
      ],
      "metadata": {
        "id": "XgGqVZ8v8L9p"
      }
    },
    {
      "cell_type": "code",
      "source": [
        "num1 = int(input('Digite o primeiro número:'))\n",
        "num2 = int(input('Digite o segundo número:'))\n",
        "num3 = int(input('Digite o terceiro número:'))\n",
        "\n",
        "if num1 > num2 and num1 > num3:\n",
        "    if num2 > num3:\n",
        "        print(f'Os números em ordem crescente são: {num3}, {num2}, {num1}')\n",
        "    elif num3 > num2:\n",
        "        print(f'Os números em ordem crescente são: {num2}, {num3}, {num1}')\n",
        "    else:\n",
        "        ...\n",
        "elif num2 > num1 and num2 > num3:\n",
        "    if num1 > num3:\n",
        "        print(f'Os números em ordem crescente são: {num3}, {num1}, {num2}')\n",
        "    elif num3 > num1:\n",
        "        print(f'Os números em ordem crescente são: {num1}, {num3}, {num2}')\n",
        "    else:\n",
        "        ...\n",
        "elif num3 > num2 and num3 > num1:\n",
        "    if num2 > num1:\n",
        "        print(f'Os números em ordem crescente são: {num1}, {num2}, {num3}')\n",
        "    elif num1 > num2:\n",
        "        print(f'Os números em ordem crescente são: {num2}, {num1}, {num3}')\n",
        "    else:\n",
        "        ...\n",
        "else:\n",
        "  ..."
      ],
      "metadata": {
        "colab": {
          "base_uri": "https://localhost:8080/"
        },
        "id": "2oYlmcvj8KRb",
        "outputId": "03f14133-d050-477e-98fe-b724b0353be5"
      },
      "execution_count": null,
      "outputs": [
        {
          "output_type": "stream",
          "name": "stdout",
          "text": [
            "Digite o primeiro número:10\n",
            "Digite o segundo número:33\n",
            "Digite o terceiro número:2\n",
            "Os números em ordem crescente são: 2, 10, 33\n"
          ]
        }
      ]
    },
    {
      "cell_type": "markdown",
      "source": [
        "### 12. Faça um programa que, dados 3 strings, mostra essas strings em ordem alfabética.\n",
        "\n",
        "---\n",
        "\n"
      ],
      "metadata": {
        "id": "_9aQTNN9-5jD"
      }
    },
    {
      "cell_type": "code",
      "source": [
        "letra1 = input('Escreva a primeira letra: ')\n",
        "letra2 = input('Escreva a segunda letra: ')\n",
        "letra3 = input('Escreva a terceira letra: ')\n",
        "\n",
        "l1 = letra1[0]\n",
        "l2 = letra2[0]\n",
        "l3 = letra3[0]\n",
        "\n",
        "if l1 <= l2 and l1 <= l3:\n",
        "    if l2 <= l3:\n",
        "        print(f'Essas são as palavras em ordem alfabética: {letra1}, {letra2} e {letra3}')\n",
        "    else:\n",
        "        print(f'Essas são as palavras em ordem alfabética: {letra1}, {letra3} e {letra2}')\n",
        "elif l2 <= l1 and l2 <= l3:\n",
        "    if l1 <= l3:\n",
        "        print(f'Essas são as palavras em ordem alfabética: {letra2}, {letra1} e {letra3}')\n",
        "    else:\n",
        "        print(f'Essas são as palavras em ordem alfabética: {letra2}, {letra3} e {letra1}')\n",
        "else:\n",
        "    if l1 <= l2:\n",
        "        print(f'Essas são as palavras em ordem alfabética: {letra3}, {letra1} e {letra2}')\n",
        "    else:\n",
        "        print(f'Essas são as palavras em ordem alfabética: {letra3}, {letra2} e {letra1}')"
      ],
      "metadata": {
        "colab": {
          "base_uri": "https://localhost:8080/"
        },
        "id": "jheK_8y__FWm",
        "outputId": "195245c5-a620-43c8-f3fb-c910f2f9f0a0"
      },
      "execution_count": null,
      "outputs": [
        {
          "output_type": "stream",
          "name": "stdout",
          "text": [
            "Escreva a primeira letra: w\n",
            "Escreva a segunda letra: e\n",
            "Escreva a terceira letra: c\n",
            "Essas são as palavras em ordem alfabética: c, e e w\n"
          ]
        }
      ]
    },
    {
      "cell_type": "markdown",
      "source": [
        "### 13. Faça um programa que peça a informação se o usuário é homem ou mulher, o peso, a altura e a idade e mostre na tela o TMB em calorias.   \n",
        "A Taxa Metabólica Basal (TMB) é a quantidade mínima de energia que o corpo precisa para manter as funções vitais, como respiração, circulação e temperatura corporal, em repouso. A TMB representa cerca de 60% a 70% do gasto energético total diário de uma pessoa e varia de acordo com o sexo, a idade, o peso e a altura.\n",
        "\n",
        "  Para calcular a TMB manualmente, você deve usar as seguintes fórmulas da equação de Harris-Benedict:\n",
        "\n",
        "   Para homens: TMB = 66,47 + (13,75 x peso em kg) + (5,003 x altura em cm) - (6,755 x idade em anos)\n",
        "    \n",
        "  Para mulheres: TMB = 655,09 + (9,563 x peso em kg) + (1,85 x altura em cm) - (4,676 x idade em anos)  \n",
        "     "
      ],
      "metadata": {
        "id": "saVz31vYCdWD"
      }
    },
    {
      "cell_type": "code",
      "source": [
        "peso = float(input('Digite seu peso: '))\n",
        "altura = int(input('Digite sua altura: '))\n",
        "idade = int(input('Digite sua idade: '))\n",
        "sexo = input('Informe seu sexo Homem ou Mulher: ')\n",
        "\n",
        "if sexo == 'Homem':\n",
        "    tbm = 66.47 + (13.75 * peso) + (5.003 * altura) - (6.755 * idade)\n",
        "    print(f'Seu TMB é de: {tbm} calorias.')\n",
        "elif sexo == 'Mulher':\n",
        "    tbm = 655.09 + (9.563 * peso) + (1.85 * altura) - (4.676 * idade)\n",
        "    print(f'Seu TMB é de: {tbm} calorias.')\n",
        "else:\n",
        "    print(\"Digite seu sexo corretamente (Homem ou Mulher).\")\n"
      ],
      "metadata": {
        "colab": {
          "base_uri": "https://localhost:8080/"
        },
        "id": "1VWQg7qRCkGO",
        "outputId": "d5932376-6165-4801-d0f8-c41923db97e7"
      },
      "execution_count": null,
      "outputs": [
        {
          "output_type": "stream",
          "name": "stdout",
          "text": [
            "Digite seu peso: 68\n",
            "Digite sua altura: 180\n",
            "Digite sua idade: 18\n",
            "Informe seu sexo (Homem/Mulher): Homem\n",
            "Seu TMB é de: 1780.42 calorias.\n"
          ]
        }
      ]
    },
    {
      "cell_type": "markdown",
      "source": [
        "### 14. Faça um programa que peça um número inteiro para o usuário e mostra a tabuada desse número."
      ],
      "metadata": {
        "id": "Zv9uDP1zHtaF"
      }
    },
    {
      "cell_type": "code",
      "source": [
        "tab = int(input(f'Qual tabuada você quer visualizar? '))\n",
        "for i in range (11):\n",
        "  print(f'{tab} x {i:2d} = {tab * i:3d} ')"
      ],
      "metadata": {
        "colab": {
          "base_uri": "https://localhost:8080/"
        },
        "id": "K8LEiXToH3iK",
        "outputId": "c4df0d04-3c96-4096-84c1-b94af9d8577e"
      },
      "execution_count": null,
      "outputs": [
        {
          "output_type": "stream",
          "name": "stdout",
          "text": [
            "Qual tabuada você quer visualizar? 3000\n",
            "3000 x  0 =   0 \n",
            "3000 x  1 = 3000 \n",
            "3000 x  2 = 6000 \n",
            "3000 x  3 = 9000 \n",
            "3000 x  4 = 12000 \n",
            "3000 x  5 = 15000 \n",
            "3000 x  6 = 18000 \n",
            "3000 x  7 = 21000 \n",
            "3000 x  8 = 24000 \n",
            "3000 x  9 = 27000 \n",
            "3000 x 10 = 30000 \n"
          ]
        }
      ]
    },
    {
      "cell_type": "code",
      "source": [],
      "metadata": {
        "id": "leqpzLdLH438"
      },
      "execution_count": null,
      "outputs": []
    }
  ]
}